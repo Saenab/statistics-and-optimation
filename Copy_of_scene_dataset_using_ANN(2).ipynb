{
  "nbformat": 4,
  "nbformat_minor": 0,
  "metadata": {
    "colab": {
      "name": "Copy of scene_dataset using ANN.ipynb",
      "provenance": [],
      "collapsed_sections": []
    },
    "kernelspec": {
      "name": "python3",
      "display_name": "Python 3"
    },
    "language_info": {
      "name": "python"
    },
    "accelerator": "GPU"
  },
  "cells": [
    {
      "cell_type": "code",
      "metadata": {
        "colab": {
          "base_uri": "https://localhost:8080/"
        },
        "id": "p8_GqIZ0plIa",
        "outputId": "4e9b9708-6679-44ff-d9a4-9b693d8d0497"
      },
      "source": [
        "from google.colab import drive\n",
        "drive.mount('/content/drive')"
      ],
      "execution_count": 240,
      "outputs": [
        {
          "output_type": "stream",
          "text": [
            "Drive already mounted at /content/drive; to attempt to forcibly remount, call drive.mount(\"/content/drive\", force_remount=True).\n"
          ],
          "name": "stdout"
        }
      ]
    },
    {
      "cell_type": "code",
      "metadata": {
        "colab": {
          "base_uri": "https://localhost:8080/"
        },
        "id": "N7V7EexxuY0O",
        "outputId": "edcecd4e-ab97-4535-ed3a-66b650048797"
      },
      "source": [
        "cd /content/drive/MyDrive/Colab Notebooks"
      ],
      "execution_count": 241,
      "outputs": [
        {
          "output_type": "stream",
          "text": [
            "/content/drive/MyDrive/Colab Notebooks\n"
          ],
          "name": "stdout"
        }
      ]
    },
    {
      "cell_type": "code",
      "metadata": {
        "id": "bR2GymhI8AOA",
        "colab": {
          "base_uri": "https://localhost:8080/"
        },
        "outputId": "9fd54c1f-da16-45cb-d990-669ba5dff57a"
      },
      "source": [
        "ls"
      ],
      "execution_count": 242,
      "outputs": [
        {
          "output_type": "stream",
          "text": [
            " \u001b[0m\u001b[01;34m3scene\u001b[0m/\n",
            " classify_iris_ANN.ipynb\n",
            "'Copy of scene_dataset using ANN (1).ipynb'\n",
            "'Copy of scene_dataset using ANN (2).ipynb'\n",
            "'Copy of scene_dataset using ANN (3).ipynb'\n",
            "'Copy of scene_dataset using ANN.ipynb'\n",
            " data_cancer.csv\n",
            " Untitled0.ipynb\n",
            " Untitled1.ipynb\n"
          ],
          "name": "stdout"
        }
      ]
    },
    {
      "cell_type": "code",
      "metadata": {
        "id": "oJnslb2pulgX"
      },
      "source": [
        "# import the necessary packages\n",
        "from keras.models import Sequential\n",
        "from keras.layers.core import Activation\n",
        "from keras.layers.core import Flatten\n",
        "from keras.layers.core import Dense\n",
        "from keras.optimizers import Adam\n",
        "from sklearn.preprocessing import LabelBinarizer\n",
        "from sklearn.model_selection import train_test_split\n",
        "from sklearn.metrics import classification_report\n",
        "from PIL import Image\n",
        "from imutils import paths\n",
        "import numpy as np\n",
        "import os"
      ],
      "execution_count": 243,
      "outputs": []
    },
    {
      "cell_type": "code",
      "metadata": {
        "colab": {
          "base_uri": "https://localhost:8080/"
        },
        "id": "sLzkrIF_uo82",
        "outputId": "941749b4-252f-4650-bb6c-7f08927e41f7"
      },
      "source": [
        "# grab all image paths in the input dataset directory, then initialize\n",
        "# our list of images and corresponding class labels\n",
        "print(\"[INFO] loading images...\")\n",
        "imagePaths = paths.list_images(\"3scene\")\n",
        "data = []\n",
        "labels = []"
      ],
      "execution_count": 244,
      "outputs": [
        {
          "output_type": "stream",
          "text": [
            "[INFO] loading images...\n"
          ],
          "name": "stdout"
        }
      ]
    },
    {
      "cell_type": "code",
      "metadata": {
        "id": "t-rAxV5guqVf"
      },
      "source": [
        "# loop over our input images\n",
        "for imagePath in imagePaths:\n",
        "\t# load the input image from disk, resize it to 64x64 pixels, scale\n",
        "\t# the pixel intensities to the range [0, 1], and then update our\n",
        "\t# images list\n",
        "\timage = Image.open(imagePath)\n",
        " #bisa pasang preprocessing disini jika mau, seperti filterring, dll\n",
        "\timage = np.array(image.resize((64, 64))) / 255.0 #normalisasi\n",
        "\tdata.append(image)\n",
        "\n",
        "\t# extract the class label from the file path and update the\n",
        "\t# labels list\n",
        "\tlabel = imagePath.split(os.path.sep)[-2]\n",
        "\tlabels.append(label)"
      ],
      "execution_count": 245,
      "outputs": []
    },
    {
      "cell_type": "code",
      "metadata": {
        "colab": {
          "base_uri": "https://localhost:8080/"
        },
        "id": "le4zk9atu1vn",
        "outputId": "4d5f5f3c-e086-45d1-a416-21b4c49f5396"
      },
      "source": [
        "print(labels)"
      ],
      "execution_count": 246,
      "outputs": [
        {
          "output_type": "stream",
          "text": [
            "['coast', 'coast', 'coast', 'coast', 'coast', 'coast', 'coast', 'coast', 'coast', 'coast', 'coast', 'coast', 'coast', 'coast', 'coast', 'coast', 'coast', 'coast', 'coast', 'coast', 'coast', 'coast', 'coast', 'coast', 'coast', 'coast', 'coast', 'coast', 'coast', 'coast', 'coast', 'coast', 'coast', 'coast', 'coast', 'coast', 'coast', 'coast', 'coast', 'coast', 'coast', 'coast', 'coast', 'coast', 'coast', 'coast', 'coast', 'coast', 'coast', 'coast', 'coast', 'coast', 'coast', 'coast', 'coast', 'coast', 'coast', 'coast', 'coast', 'coast', 'coast', 'coast', 'coast', 'coast', 'coast', 'coast', 'coast', 'coast', 'coast', 'coast', 'coast', 'coast', 'coast', 'coast', 'coast', 'coast', 'coast', 'coast', 'coast', 'coast', 'coast', 'coast', 'coast', 'coast', 'coast', 'coast', 'coast', 'coast', 'coast', 'coast', 'coast', 'coast', 'coast', 'coast', 'coast', 'coast', 'coast', 'coast', 'coast', 'coast', 'coast', 'coast', 'coast', 'coast', 'coast', 'coast', 'coast', 'coast', 'coast', 'coast', 'coast', 'coast', 'coast', 'coast', 'coast', 'coast', 'coast', 'coast', 'coast', 'coast', 'coast', 'coast', 'coast', 'coast', 'coast', 'coast', 'coast', 'coast', 'coast', 'coast', 'coast', 'coast', 'coast', 'coast', 'coast', 'coast', 'coast', 'coast', 'coast', 'coast', 'coast', 'coast', 'coast', 'coast', 'coast', 'coast', 'coast', 'coast', 'coast', 'coast', 'coast', 'coast', 'coast', 'coast', 'coast', 'coast', 'coast', 'coast', 'coast', 'coast', 'coast', 'coast', 'coast', 'coast', 'coast', 'coast', 'coast', 'coast', 'coast', 'coast', 'coast', 'coast', 'coast', 'coast', 'coast', 'coast', 'coast', 'coast', 'coast', 'coast', 'coast', 'coast', 'coast', 'coast', 'coast', 'coast', 'coast', 'coast', 'coast', 'coast', 'coast', 'coast', 'coast', 'coast', 'coast', 'coast', 'coast', 'coast', 'coast', 'coast', 'coast', 'coast', 'coast', 'coast', 'coast', 'coast', 'coast', 'coast', 'coast', 'coast', 'coast', 'coast', 'coast', 'coast', 'coast', 'coast', 'coast', 'coast', 'coast', 'coast', 'coast', 'coast', 'coast', 'coast', 'coast', 'coast', 'coast', 'coast', 'coast', 'coast', 'coast', 'coast', 'coast', 'coast', 'coast', 'coast', 'coast', 'coast', 'coast', 'coast', 'coast', 'coast', 'coast', 'coast', 'coast', 'coast', 'coast', 'coast', 'coast', 'coast', 'coast', 'coast', 'coast', 'coast', 'coast', 'coast', 'coast', 'coast', 'coast', 'coast', 'coast', 'coast', 'coast', 'coast', 'coast', 'coast', 'coast', 'coast', 'coast', 'coast', 'coast', 'coast', 'coast', 'coast', 'coast', 'coast', 'coast', 'coast', 'coast', 'coast', 'coast', 'coast', 'coast', 'coast', 'coast', 'coast', 'coast', 'coast', 'coast', 'coast', 'coast', 'coast', 'coast', 'coast', 'coast', 'coast', 'coast', 'coast', 'coast', 'coast', 'coast', 'coast', 'coast', 'coast', 'coast', 'coast', 'coast', 'coast', 'coast', 'coast', 'coast', 'coast', 'coast', 'coast', 'coast', 'coast', 'coast', 'coast', 'coast', 'coast', 'coast', 'coast', 'coast', 'coast', 'coast', 'coast', 'coast', 'coast', 'coast', 'coast', 'coast', 'coast', 'coast', 'coast', 'coast', 'coast', 'coast', 'coast', 'coast', 'coast', 'coast', 'coast', 'coast', 'coast', 'coast', 'coast', 'coast', 'coast', 'coast', 'coast', 'coast', 'coast', 'coast', 'coast', 'coast', 'coast', 'coast', 'coast', 'coast', 'coast', 'forest', 'forest', 'forest', 'forest', 'forest', 'forest', 'forest', 'forest', 'forest', 'forest', 'forest', 'forest', 'forest', 'forest', 'forest', 'forest', 'forest', 'forest', 'forest', 'forest', 'forest', 'forest', 'forest', 'forest', 'forest', 'forest', 'forest', 'forest', 'forest', 'forest', 'forest', 'forest', 'forest', 'forest', 'forest', 'forest', 'forest', 'forest', 'forest', 'forest', 'forest', 'forest', 'forest', 'forest', 'forest', 'forest', 'forest', 'forest', 'forest', 'forest', 'forest', 'forest', 'forest', 'forest', 'forest', 'forest', 'forest', 'forest', 'forest', 'forest', 'forest', 'forest', 'forest', 'forest', 'forest', 'forest', 'forest', 'forest', 'forest', 'forest', 'forest', 'forest', 'forest', 'forest', 'forest', 'forest', 'forest', 'forest', 'forest', 'forest', 'forest', 'forest', 'forest', 'forest', 'forest', 'forest', 'forest', 'forest', 'forest', 'forest', 'forest', 'forest', 'forest', 'forest', 'forest', 'forest', 'forest', 'forest', 'forest', 'forest', 'forest', 'forest', 'forest', 'forest', 'forest', 'forest', 'forest', 'forest', 'forest', 'forest', 'forest', 'forest', 'forest', 'forest', 'forest', 'forest', 'forest', 'forest', 'forest', 'forest', 'forest', 'forest', 'forest', 'forest', 'forest', 'forest', 'forest', 'forest', 'forest', 'forest', 'forest', 'forest', 'forest', 'forest', 'forest', 'forest', 'forest', 'forest', 'forest', 'forest', 'forest', 'forest', 'forest', 'forest', 'forest', 'forest', 'forest', 'forest', 'forest', 'forest', 'forest', 'forest', 'forest', 'forest', 'forest', 'forest', 'forest', 'forest', 'forest', 'forest', 'forest', 'forest', 'forest', 'forest', 'forest', 'forest', 'forest', 'forest', 'forest', 'forest', 'forest', 'forest', 'forest', 'forest', 'forest', 'forest', 'forest', 'forest', 'forest', 'forest', 'forest', 'forest', 'forest', 'forest', 'forest', 'forest', 'forest', 'forest', 'forest', 'forest', 'forest', 'forest', 'forest', 'forest', 'forest', 'forest', 'forest', 'forest', 'forest', 'forest', 'forest', 'forest', 'forest', 'forest', 'forest', 'forest', 'forest', 'forest', 'forest', 'forest', 'forest', 'forest', 'forest', 'forest', 'forest', 'forest', 'forest', 'forest', 'forest', 'forest', 'forest', 'forest', 'forest', 'forest', 'forest', 'forest', 'forest', 'forest', 'forest', 'forest', 'forest', 'forest', 'forest', 'forest', 'forest', 'forest', 'forest', 'forest', 'forest', 'forest', 'forest', 'forest', 'forest', 'forest', 'forest', 'forest', 'forest', 'forest', 'forest', 'forest', 'forest', 'forest', 'forest', 'forest', 'forest', 'forest', 'forest', 'forest', 'forest', 'forest', 'forest', 'forest', 'forest', 'forest', 'forest', 'forest', 'forest', 'forest', 'forest', 'forest', 'forest', 'forest', 'forest', 'forest', 'forest', 'forest', 'forest', 'forest', 'forest', 'forest', 'forest', 'forest', 'forest', 'forest', 'forest', 'forest', 'forest', 'forest', 'forest', 'forest', 'forest', 'forest', 'forest', 'forest', 'forest', 'forest', 'forest', 'forest', 'forest', 'forest', 'forest', 'forest', 'forest', 'forest', 'forest', 'forest', 'forest', 'forest', 'forest', 'forest', 'forest', 'forest', 'forest', 'forest', 'forest', 'forest', 'forest', 'forest', 'forest', 'forest', 'forest', 'forest', 'forest', 'forest', 'forest', 'forest', 'forest', 'forest', 'highway', 'highway', 'highway', 'highway', 'highway', 'highway', 'highway', 'highway', 'highway', 'highway', 'highway', 'highway', 'highway', 'highway', 'highway', 'highway', 'highway', 'highway', 'highway', 'highway', 'highway', 'highway', 'highway', 'highway', 'highway', 'highway', 'highway', 'highway', 'highway', 'highway', 'highway', 'highway', 'highway', 'highway', 'highway', 'highway', 'highway', 'highway', 'highway', 'highway', 'highway', 'highway', 'highway', 'highway', 'highway', 'highway', 'highway', 'highway', 'highway', 'highway', 'highway', 'highway', 'highway', 'highway', 'highway', 'highway', 'highway', 'highway', 'highway', 'highway', 'highway', 'highway', 'highway', 'highway', 'highway', 'highway', 'highway', 'highway', 'highway', 'highway', 'highway', 'highway', 'highway', 'highway', 'highway', 'highway', 'highway', 'highway', 'highway', 'highway', 'highway', 'highway', 'highway', 'highway', 'highway', 'highway', 'highway', 'highway', 'highway', 'highway', 'highway', 'highway', 'highway', 'highway', 'highway', 'highway', 'highway', 'highway', 'highway', 'highway', 'highway', 'highway', 'highway', 'highway', 'highway', 'highway', 'highway', 'highway', 'highway', 'highway', 'highway', 'highway', 'highway', 'highway', 'highway', 'highway', 'highway', 'highway', 'highway', 'highway', 'highway', 'highway', 'highway', 'highway', 'highway', 'highway', 'highway', 'highway', 'highway', 'highway', 'highway', 'highway', 'highway', 'highway', 'highway', 'highway', 'highway', 'highway', 'highway', 'highway', 'highway', 'highway', 'highway', 'highway', 'highway', 'highway', 'highway', 'highway', 'highway', 'highway', 'highway', 'highway', 'highway', 'highway', 'highway', 'highway', 'highway', 'highway', 'highway', 'highway', 'highway', 'highway', 'highway', 'highway', 'highway', 'highway', 'highway', 'highway', 'highway', 'highway', 'highway', 'highway', 'highway', 'highway', 'highway', 'highway', 'highway', 'highway', 'highway', 'highway', 'highway', 'highway', 'highway', 'highway', 'highway', 'highway', 'highway', 'highway', 'highway', 'highway', 'highway', 'highway', 'highway', 'highway', 'highway', 'highway', 'highway', 'highway', 'highway', 'highway', 'highway', 'highway', 'highway', 'highway', 'highway', 'highway', 'highway', 'highway', 'highway', 'highway', 'highway', 'highway', 'highway', 'highway', 'highway', 'highway', 'highway', 'highway', 'highway', 'highway', 'highway', 'highway', 'highway', 'highway', 'highway', 'highway', 'highway', 'highway', 'highway', 'highway', 'highway', 'highway', 'highway', 'highway', 'highway', 'highway', 'highway', 'highway', 'highway', 'highway', 'highway', 'highway', 'highway', 'highway', 'highway', 'highway', 'highway', 'highway', 'highway', 'highway', 'highway', 'highway', 'highway', 'highway', 'highway', 'highway', 'highway', 'highway', 'highway', 'highway']\n"
          ],
          "name": "stdout"
        }
      ]
    },
    {
      "cell_type": "code",
      "metadata": {
        "id": "r8yIePMHvx0w"
      },
      "source": [
        "# encode the labels, converting them from strings to integers\n",
        "lb = LabelBinarizer()\n",
        "labels = lb.fit_transform(labels)"
      ],
      "execution_count": 247,
      "outputs": []
    },
    {
      "cell_type": "code",
      "metadata": {
        "id": "5FPCyIqcVGB7",
        "colab": {
          "base_uri": "https://localhost:8080/"
        },
        "outputId": "5d95f6b8-3b41-4c5c-991c-a748b5d8b3b7"
      },
      "source": [
        "print(labels)"
      ],
      "execution_count": 248,
      "outputs": [
        {
          "output_type": "stream",
          "text": [
            "[[1 0 0]\n",
            " [1 0 0]\n",
            " [1 0 0]\n",
            " ...\n",
            " [0 0 1]\n",
            " [0 0 1]\n",
            " [0 0 1]]\n"
          ],
          "name": "stdout"
        }
      ]
    },
    {
      "cell_type": "code",
      "metadata": {
        "colab": {
          "base_uri": "https://localhost:8080/"
        },
        "id": "E-xr1UQ9-zhu",
        "outputId": "7bb038e3-4caa-4631-8fa8-91d2f8f58a27"
      },
      "source": [
        "print(np.array(data).shape)"
      ],
      "execution_count": 249,
      "outputs": [
        {
          "output_type": "stream",
          "text": [
            "(948, 64, 64, 3)\n"
          ],
          "name": "stdout"
        }
      ]
    },
    {
      "cell_type": "code",
      "metadata": {
        "colab": {
          "base_uri": "https://localhost:8080/"
        },
        "id": "Xr8lG_sDv6tP",
        "outputId": "fa44c19e-977d-4fbe-e9dc-b26979ed8bbd"
      },
      "source": [
        "# perform a training and testing split, using 75% of the data for\n",
        "# training and 25% for evaluation\n",
        "(trainX, testX, trainY, testY) = train_test_split(np.array(data),\tnp.array(labels), test_size=0.25)\n",
        "print(trainX.shape)\n",
        "print(testX.shape)"
      ],
      "execution_count": 250,
      "outputs": [
        {
          "output_type": "stream",
          "text": [
            "(711, 64, 64, 3)\n",
            "(237, 64, 64, 3)\n"
          ],
          "name": "stdout"
        }
      ]
    },
    {
      "cell_type": "code",
      "metadata": {
        "id": "-jKeOzGSv9mH"
      },
      "source": [
        "from keras.models import Sequential\n",
        "from keras.layers.core import Flatten\n",
        "from keras.layers.core import Dense, Dropout\n",
        "\n",
        "model = Sequential(\n",
        "    [\n",
        "        Flatten(input_shape=(64*64*3,)),\n",
        "        Dense(128, activation=\"relu\"),\n",
        "        Dense(62, activation=\"relu\"),\n",
        "        Dropout(0.1),\n",
        "        Dense(64, activation=\"relu\"),\n",
        "        Dense(64, activation=\"relu\"),\n",
        "        Dropout(0.1),\n",
        "        Dense(16, activation=\"relu\"),\n",
        "        Dense(16, activation=\"relu\"),\n",
        "        Dense(3, activation = \"softmax\"),\n",
        "    ]\n",
        ")"
      ],
      "execution_count": 251,
      "outputs": []
    },
    {
      "cell_type": "code",
      "metadata": {
        "colab": {
          "base_uri": "https://localhost:8080/"
        },
        "id": "O2BScVo0wC62",
        "outputId": "0e57a324-245f-49f8-beb1-0b1ffe8dbb6f"
      },
      "source": [
        "model.summary()"
      ],
      "execution_count": 252,
      "outputs": [
        {
          "output_type": "stream",
          "text": [
            "Model: \"sequential_26\"\n",
            "_________________________________________________________________\n",
            "Layer (type)                 Output Shape              Param #   \n",
            "=================================================================\n",
            "flatten_26 (Flatten)         (None, 12288)             0         \n",
            "_________________________________________________________________\n",
            "dense_182 (Dense)            (None, 128)               1572992   \n",
            "_________________________________________________________________\n",
            "dense_183 (Dense)            (None, 62)                7998      \n",
            "_________________________________________________________________\n",
            "dropout_52 (Dropout)         (None, 62)                0         \n",
            "_________________________________________________________________\n",
            "dense_184 (Dense)            (None, 64)                4032      \n",
            "_________________________________________________________________\n",
            "dense_185 (Dense)            (None, 64)                4160      \n",
            "_________________________________________________________________\n",
            "dropout_53 (Dropout)         (None, 64)                0         \n",
            "_________________________________________________________________\n",
            "dense_186 (Dense)            (None, 16)                1040      \n",
            "_________________________________________________________________\n",
            "dense_187 (Dense)            (None, 16)                272       \n",
            "_________________________________________________________________\n",
            "dense_188 (Dense)            (None, 3)                 51        \n",
            "=================================================================\n",
            "Total params: 1,590,545\n",
            "Trainable params: 1,590,545\n",
            "Non-trainable params: 0\n",
            "_________________________________________________________________\n"
          ],
          "name": "stdout"
        }
      ]
    },
    {
      "cell_type": "code",
      "metadata": {
        "colab": {
          "base_uri": "https://localhost:8080/"
        },
        "id": "h5MTj5SUwGpG",
        "outputId": "253460e4-701d-4930-d98f-c5029bef144c"
      },
      "source": [
        "# train the model using the Adam optimizer\n",
        "print(\"[INFO] training network...\")\n",
        "opt = Adam(lr=1e-3, decay=1e-3)\n",
        "model.compile(loss=\"categorical_crossentropy\", optimizer=opt,\n",
        "\tmetrics=[\"accuracy\"])\n",
        "H = model.fit(trainX, trainY, validation_data=(testX, testY), epochs=50, batch_size=32)"
      ],
      "execution_count": 253,
      "outputs": [
        {
          "output_type": "stream",
          "text": [
            "[INFO] training network...\n",
            "Epoch 1/50\n",
            "WARNING:tensorflow:Model was constructed with shape (None, 12288) for input KerasTensor(type_spec=TensorSpec(shape=(None, 12288), dtype=tf.float32, name='flatten_26_input'), name='flatten_26_input', description=\"created by layer 'flatten_26_input'\"), but it was called on an input with incompatible shape (None, 64, 64, 3).\n",
            "WARNING:tensorflow:Model was constructed with shape (None, 12288) for input KerasTensor(type_spec=TensorSpec(shape=(None, 12288), dtype=tf.float32, name='flatten_26_input'), name='flatten_26_input', description=\"created by layer 'flatten_26_input'\"), but it was called on an input with incompatible shape (None, 64, 64, 3).\n",
            "19/23 [=======================>......] - ETA: 0s - loss: 1.2569 - accuracy: 0.3005WARNING:tensorflow:Model was constructed with shape (None, 12288) for input KerasTensor(type_spec=TensorSpec(shape=(None, 12288), dtype=tf.float32, name='flatten_26_input'), name='flatten_26_input', description=\"created by layer 'flatten_26_input'\"), but it was called on an input with incompatible shape (None, 64, 64, 3).\n",
            "23/23 [==============================] - 1s 26ms/step - loss: 1.2498 - accuracy: 0.3082 - val_loss: 1.0852 - val_accuracy: 0.2954\n",
            "Epoch 2/50\n",
            "23/23 [==============================] - 0s 16ms/step - loss: 1.0924 - accuracy: 0.4139 - val_loss: 1.0926 - val_accuracy: 0.3122\n",
            "Epoch 3/50\n",
            "23/23 [==============================] - 0s 17ms/step - loss: 1.0990 - accuracy: 0.3065 - val_loss: 1.0371 - val_accuracy: 0.5274\n",
            "Epoch 4/50\n",
            "23/23 [==============================] - 0s 16ms/step - loss: 1.0639 - accuracy: 0.4129 - val_loss: 1.0072 - val_accuracy: 0.4473\n",
            "Epoch 5/50\n",
            "23/23 [==============================] - 0s 17ms/step - loss: 1.0058 - accuracy: 0.4803 - val_loss: 0.8669 - val_accuracy: 0.5907\n",
            "Epoch 6/50\n",
            "23/23 [==============================] - 0s 17ms/step - loss: 0.9138 - accuracy: 0.5381 - val_loss: 0.8774 - val_accuracy: 0.6160\n",
            "Epoch 7/50\n",
            "23/23 [==============================] - 0s 17ms/step - loss: 0.9143 - accuracy: 0.5634 - val_loss: 0.8073 - val_accuracy: 0.5823\n",
            "Epoch 8/50\n",
            "23/23 [==============================] - 0s 16ms/step - loss: 0.8322 - accuracy: 0.6058 - val_loss: 0.8800 - val_accuracy: 0.6245\n",
            "Epoch 9/50\n",
            "23/23 [==============================] - 0s 16ms/step - loss: 0.8373 - accuracy: 0.6103 - val_loss: 0.7328 - val_accuracy: 0.6835\n",
            "Epoch 10/50\n",
            "23/23 [==============================] - 0s 17ms/step - loss: 0.7400 - accuracy: 0.6819 - val_loss: 0.6830 - val_accuracy: 0.6962\n",
            "Epoch 11/50\n",
            "23/23 [==============================] - 0s 16ms/step - loss: 0.6617 - accuracy: 0.7117 - val_loss: 0.7993 - val_accuracy: 0.6034\n",
            "Epoch 12/50\n",
            "23/23 [==============================] - 0s 17ms/step - loss: 0.7779 - accuracy: 0.6724 - val_loss: 0.7253 - val_accuracy: 0.6498\n",
            "Epoch 13/50\n",
            "23/23 [==============================] - 0s 16ms/step - loss: 0.6604 - accuracy: 0.7094 - val_loss: 0.8304 - val_accuracy: 0.6034\n",
            "Epoch 14/50\n",
            "23/23 [==============================] - 0s 16ms/step - loss: 0.6743 - accuracy: 0.7105 - val_loss: 0.6281 - val_accuracy: 0.7764\n",
            "Epoch 15/50\n",
            "23/23 [==============================] - 0s 17ms/step - loss: 0.5602 - accuracy: 0.7920 - val_loss: 0.5990 - val_accuracy: 0.7890\n",
            "Epoch 16/50\n",
            "23/23 [==============================] - 0s 17ms/step - loss: 0.4970 - accuracy: 0.8117 - val_loss: 0.7347 - val_accuracy: 0.6709\n",
            "Epoch 17/50\n",
            "23/23 [==============================] - 0s 16ms/step - loss: 0.5958 - accuracy: 0.7812 - val_loss: 0.6972 - val_accuracy: 0.7722\n",
            "Epoch 18/50\n",
            "23/23 [==============================] - 0s 16ms/step - loss: 0.5699 - accuracy: 0.7795 - val_loss: 0.5665 - val_accuracy: 0.7975\n",
            "Epoch 19/50\n",
            "23/23 [==============================] - 0s 17ms/step - loss: 0.5567 - accuracy: 0.7553 - val_loss: 0.5618 - val_accuracy: 0.7848\n",
            "Epoch 20/50\n",
            "23/23 [==============================] - 0s 16ms/step - loss: 0.4623 - accuracy: 0.8219 - val_loss: 0.6473 - val_accuracy: 0.7553\n",
            "Epoch 21/50\n",
            "23/23 [==============================] - 0s 16ms/step - loss: 0.4478 - accuracy: 0.8386 - val_loss: 0.5673 - val_accuracy: 0.7764\n",
            "Epoch 22/50\n",
            "23/23 [==============================] - 0s 17ms/step - loss: 0.4555 - accuracy: 0.8041 - val_loss: 0.5345 - val_accuracy: 0.8059\n",
            "Epoch 23/50\n",
            "23/23 [==============================] - 0s 16ms/step - loss: 0.4265 - accuracy: 0.8382 - val_loss: 0.5464 - val_accuracy: 0.7890\n",
            "Epoch 24/50\n",
            "23/23 [==============================] - 0s 17ms/step - loss: 0.4160 - accuracy: 0.8518 - val_loss: 0.5784 - val_accuracy: 0.7806\n",
            "Epoch 25/50\n",
            "23/23 [==============================] - 0s 16ms/step - loss: 0.4145 - accuracy: 0.8275 - val_loss: 0.5391 - val_accuracy: 0.8228\n",
            "Epoch 26/50\n",
            "23/23 [==============================] - 0s 17ms/step - loss: 0.3846 - accuracy: 0.8651 - val_loss: 0.6185 - val_accuracy: 0.8017\n",
            "Epoch 27/50\n",
            "23/23 [==============================] - 0s 16ms/step - loss: 0.3457 - accuracy: 0.8841 - val_loss: 0.6381 - val_accuracy: 0.7932\n",
            "Epoch 28/50\n",
            "23/23 [==============================] - 0s 16ms/step - loss: 0.4055 - accuracy: 0.8505 - val_loss: 0.6423 - val_accuracy: 0.7806\n",
            "Epoch 29/50\n",
            "23/23 [==============================] - 0s 16ms/step - loss: 0.3416 - accuracy: 0.8930 - val_loss: 0.6331 - val_accuracy: 0.8143\n",
            "Epoch 30/50\n",
            "23/23 [==============================] - 0s 16ms/step - loss: 0.3453 - accuracy: 0.8885 - val_loss: 0.5228 - val_accuracy: 0.8228\n",
            "Epoch 31/50\n",
            "23/23 [==============================] - 0s 16ms/step - loss: 0.3237 - accuracy: 0.8818 - val_loss: 0.5975 - val_accuracy: 0.8059\n",
            "Epoch 32/50\n",
            "23/23 [==============================] - 0s 16ms/step - loss: 0.3723 - accuracy: 0.8470 - val_loss: 0.6090 - val_accuracy: 0.8270\n",
            "Epoch 33/50\n",
            "23/23 [==============================] - 0s 17ms/step - loss: 0.2887 - accuracy: 0.9055 - val_loss: 0.6144 - val_accuracy: 0.7595\n",
            "Epoch 34/50\n",
            "23/23 [==============================] - 0s 17ms/step - loss: 0.3786 - accuracy: 0.8693 - val_loss: 0.6641 - val_accuracy: 0.7806\n",
            "Epoch 35/50\n",
            "23/23 [==============================] - 0s 17ms/step - loss: 0.3242 - accuracy: 0.8827 - val_loss: 0.5204 - val_accuracy: 0.8354\n",
            "Epoch 36/50\n",
            "23/23 [==============================] - 0s 17ms/step - loss: 0.3072 - accuracy: 0.8792 - val_loss: 0.5841 - val_accuracy: 0.8017\n",
            "Epoch 37/50\n",
            "23/23 [==============================] - 0s 17ms/step - loss: 0.2610 - accuracy: 0.9097 - val_loss: 0.6621 - val_accuracy: 0.8186\n",
            "Epoch 38/50\n",
            "23/23 [==============================] - 0s 17ms/step - loss: 0.2845 - accuracy: 0.9067 - val_loss: 0.5601 - val_accuracy: 0.8397\n",
            "Epoch 39/50\n",
            "23/23 [==============================] - 0s 17ms/step - loss: 0.2707 - accuracy: 0.9024 - val_loss: 0.6285 - val_accuracy: 0.7848\n",
            "Epoch 40/50\n",
            "23/23 [==============================] - 0s 16ms/step - loss: 0.3243 - accuracy: 0.8937 - val_loss: 0.7788 - val_accuracy: 0.7679\n",
            "Epoch 41/50\n",
            "23/23 [==============================] - 0s 17ms/step - loss: 0.2824 - accuracy: 0.8965 - val_loss: 0.7865 - val_accuracy: 0.8059\n",
            "Epoch 42/50\n",
            "23/23 [==============================] - 0s 16ms/step - loss: 0.2968 - accuracy: 0.8861 - val_loss: 0.6900 - val_accuracy: 0.7722\n",
            "Epoch 43/50\n",
            "23/23 [==============================] - 0s 17ms/step - loss: 0.2669 - accuracy: 0.9041 - val_loss: 0.7178 - val_accuracy: 0.8143\n",
            "Epoch 44/50\n",
            "23/23 [==============================] - 0s 16ms/step - loss: 0.2626 - accuracy: 0.9262 - val_loss: 0.6310 - val_accuracy: 0.8017\n",
            "Epoch 45/50\n",
            "23/23 [==============================] - 0s 17ms/step - loss: 0.2360 - accuracy: 0.9235 - val_loss: 0.5680 - val_accuracy: 0.8354\n",
            "Epoch 46/50\n",
            "23/23 [==============================] - 0s 17ms/step - loss: 0.1738 - accuracy: 0.9466 - val_loss: 0.6547 - val_accuracy: 0.7932\n",
            "Epoch 47/50\n",
            "23/23 [==============================] - 0s 16ms/step - loss: 0.2298 - accuracy: 0.9213 - val_loss: 0.6077 - val_accuracy: 0.8228\n",
            "Epoch 48/50\n",
            "23/23 [==============================] - 0s 17ms/step - loss: 0.2493 - accuracy: 0.9081 - val_loss: 0.7116 - val_accuracy: 0.7848\n",
            "Epoch 49/50\n",
            "23/23 [==============================] - 0s 16ms/step - loss: 0.1913 - accuracy: 0.9411 - val_loss: 0.6522 - val_accuracy: 0.8312\n",
            "Epoch 50/50\n",
            "23/23 [==============================] - 0s 17ms/step - loss: 0.1781 - accuracy: 0.9366 - val_loss: 0.6105 - val_accuracy: 0.8186\n"
          ],
          "name": "stdout"
        }
      ]
    },
    {
      "cell_type": "code",
      "metadata": {
        "colab": {
          "base_uri": "https://localhost:8080/",
          "height": 591
        },
        "id": "LcE-OzSJwMC-",
        "outputId": "e0f86080-0ff8-4a33-9bfb-6049d71c0d9f"
      },
      "source": [
        "import matplotlib.pyplot as plt\n",
        "\n",
        "print(H.history.keys())\n",
        "# summarize history for accuracy\n",
        "plt.plot(H.history['accuracy'])\n",
        "plt.plot(H.history['val_accuracy'])\n",
        "plt.title('model accuracy')\n",
        "plt.ylabel('accuracy')\n",
        "plt.xlabel('epoch')\n",
        "plt.legend(['train', 'test'], loc='upper left')\n",
        "plt.show()\n",
        "# summarize history for loss\n",
        "plt.plot(H.history['loss'])\n",
        "plt.plot(H.history['val_loss'])\n",
        "plt.title('model loss')\n",
        "plt.ylabel('loss')\n",
        "plt.xlabel('epoch')\n",
        "plt.legend(['train', 'test'], loc='upper left')\n",
        "plt.show()"
      ],
      "execution_count": 254,
      "outputs": [
        {
          "output_type": "stream",
          "text": [
            "dict_keys(['loss', 'accuracy', 'val_loss', 'val_accuracy'])\n"
          ],
          "name": "stdout"
        },
        {
          "output_type": "display_data",
          "data": {
            "image/png": "[encoded data removed]",
            "text/plain": [
              "<Figure size 432x288 with 1 Axes>"
            ]
          },
          "metadata": {
            "tags": [],
            "needs_background": "light"
          }
        },
        {
          "output_type": "display_data",
          "data": {
            "image/png": "[encoded data removed]",
            "text/plain": [
              "<Figure size 432x288 with 1 Axes>"
            ]
          },
          "metadata": {
            "tags": [],
            "needs_background": "light"
          }
        }
      ]
    },
    {
      "cell_type": "code",
      "metadata": {
        "colab": {
          "base_uri": "https://localhost:8080/"
        },
        "id": "a-YnZ8-bwmcY",
        "outputId": "d5afdd27-79b7-4fef-e6a9-f913addc1e83"
      },
      "source": [
        "# evaluate the network\n",
        "print(\"[INFO] evaluating network...\")\n",
        "predictions = model.predict(testX, batch_size=32)\n",
        "print(classification_report(testY.argmax(axis=1),\n",
        "\tpredictions.argmax(axis=1), target_names=lb.classes_))"
      ],
      "execution_count": 255,
      "outputs": [
        {
          "output_type": "stream",
          "text": [
            "[INFO] evaluating network...\n",
            "WARNING:tensorflow:Model was constructed with shape (None, 12288) for input KerasTensor(type_spec=TensorSpec(shape=(None, 12288), dtype=tf.float32, name='flatten_26_input'), name='flatten_26_input', description=\"created by layer 'flatten_26_input'\"), but it was called on an input with incompatible shape (None, 64, 64, 3).\n",
            "              precision    recall  f1-score   support\n",
            "\n",
            "       coast       0.78      0.82      0.80        90\n",
            "      forest       0.90      0.81      0.85        88\n",
            "     highway       0.78      0.83      0.80        59\n",
            "\n",
            "    accuracy                           0.82       237\n",
            "   macro avg       0.82      0.82      0.82       237\n",
            "weighted avg       0.82      0.82      0.82       237\n",
            "\n"
          ],
          "name": "stdout"
        }
      ]
    }
  ]
}