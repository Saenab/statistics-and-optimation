{
  "nbformat": 4,
  "nbformat_minor": 0,
  "metadata": {
    "accelerator": "GPU",
    "colab": {
      "name": "Copy of scene_dataset using ANN.ipynb",
      "provenance": [],
      "collapsed_sections": []
    },
    "kernelspec": {
      "display_name": "Python 3",
      "name": "python3"
    },
    "language_info": {
      "name": "python"
    }
  },
  "cells": [
    {
      "cell_type": "code",
      "metadata": {
        "colab": {
          "base_uri": "https://localhost:8080/"
        },
        "id": "p8_GqIZ0plIa",
        "outputId": "3c0ddd86-955e-4ae4-ad74-640b8a606894"
      },
      "source": [
        "from google.colab import drive\n",
        "drive.mount('/content/drive')"
      ],
      "execution_count": 96,
      "outputs": [
        {
          "output_type": "stream",
          "text": [
            "Drive already mounted at /content/drive; to attempt to forcibly remount, call drive.mount(\"/content/drive\", force_remount=True).\n"
          ],
          "name": "stdout"
        }
      ]
    },
    {
      "cell_type": "code",
      "metadata": {
        "colab": {
          "base_uri": "https://localhost:8080/"
        },
        "id": "N7V7EexxuY0O",
        "outputId": "c9e87bcd-b354-455a-c459-4acb3351826b"
      },
      "source": [
        "cd /content/drive/MyDrive/Colab Notebooks"
      ],
      "execution_count": 97,
      "outputs": [
        {
          "output_type": "stream",
          "text": [
            "/content/drive/MyDrive/Colab Notebooks\n"
          ],
          "name": "stdout"
        }
      ]
    },
    {
      "cell_type": "code",
      "metadata": {
        "colab": {
          "base_uri": "https://localhost:8080/"
        },
        "id": "bR2GymhI8AOA",
        "outputId": "764acd1c-ffaa-4cc1-8954-ca3ef1587cf4"
      },
      "source": [
        "ls"
      ],
      "execution_count": 98,
      "outputs": [
        {
          "output_type": "stream",
          "text": [
            " \u001b[0m\u001b[01;34m3scene\u001b[0m/\n",
            " classify_iris_ANN.ipynb\n",
            "'Copy of scene_dataset using ANN (1).ipynb'\n",
            "'Copy of scene_dataset using ANN (2).ipynb'\n",
            "'Copy of scene_dataset using ANN (3).ipynb'\n",
            "'Copy of scene_dataset using ANN.ipynb'\n",
            " data_cancer.csv\n",
            " Untitled0.ipynb\n",
            " Untitled1.ipynb\n"
          ],
          "name": "stdout"
        }
      ]
    },
    {
      "cell_type": "code",
      "metadata": {
        "id": "oJnslb2pulgX"
      },
      "source": [
        "# import the necessary packages\n",
        "from keras.models import Sequential\n",
        "from keras.layers.core import Activation\n",
        "from keras.layers.core import Flatten\n",
        "from keras.layers.core import Dense\n",
        "from keras.optimizers import Adam\n",
        "from sklearn.preprocessing import LabelBinarizer\n",
        "from sklearn.model_selection import train_test_split\n",
        "from sklearn.metrics import classification_report\n",
        "from PIL import Image\n",
        "from imutils import paths\n",
        "import numpy as np\n",
        "import os"
      ],
      "execution_count": 99,
      "outputs": []
    },
    {
      "cell_type": "code",
      "metadata": {
        "colab": {
          "base_uri": "https://localhost:8080/"
        },
        "id": "sLzkrIF_uo82",
        "outputId": "722f197f-135c-45a8-ed84-20fc0aa87f6f"
      },
      "source": [
        "# grab all image paths in the input dataset directory, then initialize\n",
        "# our list of images and corresponding class labels\n",
        "print(\"[INFO] loading images...\")\n",
        "imagePaths = paths.list_images(\"3scene\")\n",
        "data = []\n",
        "labels = []"
      ],
      "execution_count": 100,
      "outputs": [
        {
          "output_type": "stream",
          "text": [
            "[INFO] loading images...\n"
          ],
          "name": "stdout"
        }
      ]
    },
    {
      "cell_type": "code",
      "metadata": {
        "id": "t-rAxV5guqVf"
      },
      "source": [
        "# loop over our input images\n",
        "for imagePath in imagePaths:\n",
        "\t# load the input image from disk, resize it to 64x64 pixels, scale\n",
        "\t# the pixel intensities to the range [0, 1], and then update our\n",
        "\t# images list\n",
        "\timage = Image.open(imagePath)\n",
        " #bisa pasang preprocessing disini jika mau, seperti filterring, dll\n",
        "\timage = np.array(image.resize((64, 64))) / 255.0 #normalisasi\n",
        "\tdata.append(image)\n",
        "\n",
        "\t# extract the class label from the file path and update the\n",
        "\t# labels list\n",
        "\tlabel = imagePath.split(os.path.sep)[-2]\n",
        "\tlabels.append(label)"
      ],
      "execution_count": 101,
      "outputs": []
    },
    {
      "cell_type": "code",
      "metadata": {
        "colab": {
          "base_uri": "https://localhost:8080/"
        },
        "id": "le4zk9atu1vn",
        "outputId": "ab60e885-b6e7-4231-9f6e-38eadcd82929"
      },
      "source": [
        "print(labels)"
      ],
      "execution_count": 102,
      "outputs": [
        {
          "output_type": "stream",
          "text": [
            "['coast', 'coast', 'coast', 'coast', 'coast', 'coast', 'coast', 'coast', 'coast', 'coast', 'coast', 'coast', 'coast', 'coast', 'coast', 'coast', 'coast', 'coast', 'coast', 'coast', 'coast', 'coast', 'coast', 'coast', 'coast', 'coast', 'coast', 'coast', 'coast', 'coast', 'coast', 'coast', 'coast', 'coast', 'coast', 'coast', 'coast', 'coast', 'coast', 'coast', 'coast', 'coast', 'coast', 'coast', 'coast', 'coast', 'coast', 'coast', 'coast', 'coast', 'coast', 'coast', 'coast', 'coast', 'coast', 'coast', 'coast', 'coast', 'coast', 'coast', 'coast', 'coast', 'coast', 'coast', 'coast', 'coast', 'coast', 'coast', 'coast', 'coast', 'coast', 'coast', 'coast', 'coast', 'coast', 'coast', 'coast', 'coast', 'coast', 'coast', 'coast', 'coast', 'coast', 'coast', 'coast', 'coast', 'coast', 'coast', 'coast', 'coast', 'coast', 'coast', 'coast', 'coast', 'coast', 'coast', 'coast', 'coast', 'coast', 'coast', 'coast', 'coast', 'coast', 'coast', 'coast', 'coast', 'coast', 'coast', 'coast', 'coast', 'coast', 'coast', 'coast', 'coast', 'coast', 'coast', 'coast', 'coast', 'coast', 'coast', 'coast', 'coast', 'coast', 'coast', 'coast', 'coast', 'coast', 'coast', 'coast', 'coast', 'coast', 'coast', 'coast', 'coast', 'coast', 'coast', 'coast', 'coast', 'coast', 'coast', 'coast', 'coast', 'coast', 'coast', 'coast', 'coast', 'coast', 'coast', 'coast', 'coast', 'coast', 'coast', 'coast', 'coast', 'coast', 'coast', 'coast', 'coast', 'coast', 'coast', 'coast', 'coast', 'coast', 'coast', 'coast', 'coast', 'coast', 'coast', 'coast', 'coast', 'coast', 'coast', 'coast', 'coast', 'coast', 'coast', 'coast', 'coast', 'coast', 'coast', 'coast', 'coast', 'coast', 'coast', 'coast', 'coast', 'coast', 'coast', 'coast', 'coast', 'coast', 'coast', 'coast', 'coast', 'coast', 'coast', 'coast', 'coast', 'coast', 'coast', 'coast', 'coast', 'coast', 'coast', 'coast', 'coast', 'coast', 'coast', 'coast', 'coast', 'coast', 'coast', 'coast', 'coast', 'coast', 'coast', 'coast', 'coast', 'coast', 'coast', 'coast', 'coast', 'coast', 'coast', 'coast', 'coast', 'coast', 'coast', 'coast', 'coast', 'coast', 'coast', 'coast', 'coast', 'coast', 'coast', 'coast', 'coast', 'coast', 'coast', 'coast', 'coast', 'coast', 'coast', 'coast', 'coast', 'coast', 'coast', 'coast', 'coast', 'coast', 'coast', 'coast', 'coast', 'coast', 'coast', 'coast', 'coast', 'coast', 'coast', 'coast', 'coast', 'coast', 'coast', 'coast', 'coast', 'coast', 'coast', 'coast', 'coast', 'coast', 'coast', 'coast', 'coast', 'coast', 'coast', 'coast', 'coast', 'coast', 'coast', 'coast', 'coast', 'coast', 'coast', 'coast', 'coast', 'coast', 'coast', 'coast', 'coast', 'coast', 'coast', 'coast', 'coast', 'coast', 'coast', 'coast', 'coast', 'coast', 'coast', 'coast', 'coast', 'coast', 'coast', 'coast', 'coast', 'coast', 'coast', 'coast', 'coast', 'coast', 'coast', 'coast', 'coast', 'coast', 'coast', 'coast', 'coast', 'coast', 'coast', 'coast', 'coast', 'coast', 'coast', 'coast', 'coast', 'coast', 'coast', 'coast', 'coast', 'coast', 'coast', 'coast', 'coast', 'coast', 'coast', 'coast', 'coast', 'coast', 'coast', 'coast', 'coast', 'coast', 'coast', 'coast', 'coast', 'coast', 'coast', 'coast', 'coast', 'coast', 'coast', 'coast', 'coast', 'coast', 'coast', 'coast', 'coast', 'coast', 'coast', 'forest', 'forest', 'forest', 'forest', 'forest', 'forest', 'forest', 'forest', 'forest', 'forest', 'forest', 'forest', 'forest', 'forest', 'forest', 'forest', 'forest', 'forest', 'forest', 'forest', 'forest', 'forest', 'forest', 'forest', 'forest', 'forest', 'forest', 'forest', 'forest', 'forest', 'forest', 'forest', 'forest', 'forest', 'forest', 'forest', 'forest', 'forest', 'forest', 'forest', 'forest', 'forest', 'forest', 'forest', 'forest', 'forest', 'forest', 'forest', 'forest', 'forest', 'forest', 'forest', 'forest', 'forest', 'forest', 'forest', 'forest', 'forest', 'forest', 'forest', 'forest', 'forest', 'forest', 'forest', 'forest', 'forest', 'forest', 'forest', 'forest', 'forest', 'forest', 'forest', 'forest', 'forest', 'forest', 'forest', 'forest', 'forest', 'forest', 'forest', 'forest', 'forest', 'forest', 'forest', 'forest', 'forest', 'forest', 'forest', 'forest', 'forest', 'forest', 'forest', 'forest', 'forest', 'forest', 'forest', 'forest', 'forest', 'forest', 'forest', 'forest', 'forest', 'forest', 'forest', 'forest', 'forest', 'forest', 'forest', 'forest', 'forest', 'forest', 'forest', 'forest', 'forest', 'forest', 'forest', 'forest', 'forest', 'forest', 'forest', 'forest', 'forest', 'forest', 'forest', 'forest', 'forest', 'forest', 'forest', 'forest', 'forest', 'forest', 'forest', 'forest', 'forest', 'forest', 'forest', 'forest', 'forest', 'forest', 'forest', 'forest', 'forest', 'forest', 'forest', 'forest', 'forest', 'forest', 'forest', 'forest', 'forest', 'forest', 'forest', 'forest', 'forest', 'forest', 'forest', 'forest', 'forest', 'forest', 'forest', 'forest', 'forest', 'forest', 'forest', 'forest', 'forest', 'forest', 'forest', 'forest', 'forest', 'forest', 'forest', 'forest', 'forest', 'forest', 'forest', 'forest', 'forest', 'forest', 'forest', 'forest', 'forest', 'forest', 'forest', 'forest', 'forest', 'forest', 'forest', 'forest', 'forest', 'forest', 'forest', 'forest', 'forest', 'forest', 'forest', 'forest', 'forest', 'forest', 'forest', 'forest', 'forest', 'forest', 'forest', 'forest', 'forest', 'forest', 'forest', 'forest', 'forest', 'forest', 'forest', 'forest', 'forest', 'forest', 'forest', 'forest', 'forest', 'forest', 'forest', 'forest', 'forest', 'forest', 'forest', 'forest', 'forest', 'forest', 'forest', 'forest', 'forest', 'forest', 'forest', 'forest', 'forest', 'forest', 'forest', 'forest', 'forest', 'forest', 'forest', 'forest', 'forest', 'forest', 'forest', 'forest', 'forest', 'forest', 'forest', 'forest', 'forest', 'forest', 'forest', 'forest', 'forest', 'forest', 'forest', 'forest', 'forest', 'forest', 'forest', 'forest', 'forest', 'forest', 'forest', 'forest', 'forest', 'forest', 'forest', 'forest', 'forest', 'forest', 'forest', 'forest', 'forest', 'forest', 'forest', 'forest', 'forest', 'forest', 'forest', 'forest', 'forest', 'forest', 'forest', 'forest', 'forest', 'forest', 'forest', 'forest', 'forest', 'forest', 'forest', 'forest', 'forest', 'forest', 'forest', 'forest', 'forest', 'forest', 'forest', 'forest', 'forest', 'forest', 'forest', 'forest', 'forest', 'forest', 'forest', 'forest', 'forest', 'forest', 'forest', 'forest', 'forest', 'forest', 'forest', 'forest', 'forest', 'forest', 'forest', 'forest', 'forest', 'forest', 'forest', 'forest', 'forest', 'forest', 'forest', 'highway', 'highway', 'highway', 'highway', 'highway', 'highway', 'highway', 'highway', 'highway', 'highway', 'highway', 'highway', 'highway', 'highway', 'highway', 'highway', 'highway', 'highway', 'highway', 'highway', 'highway', 'highway', 'highway', 'highway', 'highway', 'highway', 'highway', 'highway', 'highway', 'highway', 'highway', 'highway', 'highway', 'highway', 'highway', 'highway', 'highway', 'highway', 'highway', 'highway', 'highway', 'highway', 'highway', 'highway', 'highway', 'highway', 'highway', 'highway', 'highway', 'highway', 'highway', 'highway', 'highway', 'highway', 'highway', 'highway', 'highway', 'highway', 'highway', 'highway', 'highway', 'highway', 'highway', 'highway', 'highway', 'highway', 'highway', 'highway', 'highway', 'highway', 'highway', 'highway', 'highway', 'highway', 'highway', 'highway', 'highway', 'highway', 'highway', 'highway', 'highway', 'highway', 'highway', 'highway', 'highway', 'highway', 'highway', 'highway', 'highway', 'highway', 'highway', 'highway', 'highway', 'highway', 'highway', 'highway', 'highway', 'highway', 'highway', 'highway', 'highway', 'highway', 'highway', 'highway', 'highway', 'highway', 'highway', 'highway', 'highway', 'highway', 'highway', 'highway', 'highway', 'highway', 'highway', 'highway', 'highway', 'highway', 'highway', 'highway', 'highway', 'highway', 'highway', 'highway', 'highway', 'highway', 'highway', 'highway', 'highway', 'highway', 'highway', 'highway', 'highway', 'highway', 'highway', 'highway', 'highway', 'highway', 'highway', 'highway', 'highway', 'highway', 'highway', 'highway', 'highway', 'highway', 'highway', 'highway', 'highway', 'highway', 'highway', 'highway', 'highway', 'highway', 'highway', 'highway', 'highway', 'highway', 'highway', 'highway', 'highway', 'highway', 'highway', 'highway', 'highway', 'highway', 'highway', 'highway', 'highway', 'highway', 'highway', 'highway', 'highway', 'highway', 'highway', 'highway', 'highway', 'highway', 'highway', 'highway', 'highway', 'highway', 'highway', 'highway', 'highway', 'highway', 'highway', 'highway', 'highway', 'highway', 'highway', 'highway', 'highway', 'highway', 'highway', 'highway', 'highway', 'highway', 'highway', 'highway', 'highway', 'highway', 'highway', 'highway', 'highway', 'highway', 'highway', 'highway', 'highway', 'highway', 'highway', 'highway', 'highway', 'highway', 'highway', 'highway', 'highway', 'highway', 'highway', 'highway', 'highway', 'highway', 'highway', 'highway', 'highway', 'highway', 'highway', 'highway', 'highway', 'highway', 'highway', 'highway', 'highway', 'highway', 'highway', 'highway', 'highway', 'highway', 'highway', 'highway', 'highway', 'highway', 'highway', 'highway', 'highway', 'highway', 'highway', 'highway', 'highway', 'highway', 'highway', 'highway', 'highway', 'highway', 'highway', 'highway', 'highway', 'highway', 'highway', 'highway']\n"
          ],
          "name": "stdout"
        }
      ]
    },
    {
      "cell_type": "code",
      "metadata": {
        "id": "r8yIePMHvx0w"
      },
      "source": [
        "# encode the labels, converting them from strings to integers\n",
        "lb = LabelBinarizer()\n",
        "labels = lb.fit_transform(labels)"
      ],
      "execution_count": 103,
      "outputs": []
    },
    {
      "cell_type": "code",
      "metadata": {
        "colab": {
          "base_uri": "https://localhost:8080/"
        },
        "id": "5FPCyIqcVGB7",
        "outputId": "2f4f50ae-c67d-4089-c973-0e804bef19f0"
      },
      "source": [
        "print(labels)"
      ],
      "execution_count": 104,
      "outputs": [
        {
          "output_type": "stream",
          "text": [
            "[[1 0 0]\n",
            " [1 0 0]\n",
            " [1 0 0]\n",
            " ...\n",
            " [0 0 1]\n",
            " [0 0 1]\n",
            " [0 0 1]]\n"
          ],
          "name": "stdout"
        }
      ]
    },
    {
      "cell_type": "code",
      "metadata": {
        "colab": {
          "base_uri": "https://localhost:8080/"
        },
        "id": "E-xr1UQ9-zhu",
        "outputId": "e52e0445-b839-4531-e2d7-9056c4fd4238"
      },
      "source": [
        "print(np.array(data).shape)"
      ],
      "execution_count": 105,
      "outputs": [
        {
          "output_type": "stream",
          "text": [
            "(948, 64, 64, 3)\n"
          ],
          "name": "stdout"
        }
      ]
    },
    {
      "cell_type": "code",
      "metadata": {
        "colab": {
          "base_uri": "https://localhost:8080/"
        },
        "id": "Xr8lG_sDv6tP",
        "outputId": "f668cc3d-6535-4986-aa9e-f0828d3cfa3d"
      },
      "source": [
        "# perform a training and testing split, using 75% of the data for\n",
        "# training and 25% for evaluation\n",
        "(trainX, testX, trainY, testY) = train_test_split(np.array(data),\tnp.array(labels), test_size=0.25)\n",
        "print(trainX.shape)\n",
        "print(testX.shape)"
      ],
      "execution_count": 106,
      "outputs": [
        {
          "output_type": "stream",
          "text": [
            "(711, 64, 64, 3)\n",
            "(237, 64, 64, 3)\n"
          ],
          "name": "stdout"
        }
      ]
    },
    {
      "cell_type": "code",
      "metadata": {
        "id": "-jKeOzGSv9mH"
      },
      "source": [
        "from keras.models import Sequential\n",
        "from keras.layers.core import Flatten\n",
        "from keras.layers.core import Dense, Dropout\n",
        "\n",
        "model = Sequential(\n",
        "    [\n",
        "        Flatten(input_shape=(64*64*3,)),\n",
        "        Dense(128, activation=\"relu\"),\n",
        "        Dense(128, activation=\"relu\"),\n",
        "        Dropout(0.2),\n",
        "        Dense(64, activation=\"relu\"),\n",
        "        Dense(64, activation=\"relu\"),\n",
        "        Dropout(0.2),\n",
        "        Dense(16, activation=\"relu\"),\n",
        "        Dense(16, activation=\"relu\"),\n",
        "        Dense(3, activation = \"softmax\"),\n",
        "    ]\n",
        ")"
      ],
      "execution_count": 107,
      "outputs": []
    },
    {
      "cell_type": "code",
      "metadata": {
        "colab": {
          "base_uri": "https://localhost:8080/"
        },
        "id": "O2BScVo0wC62",
        "outputId": "daa81361-cb32-4de1-f151-2378fa5ce654"
      },
      "source": [
        "model.summary()"
      ],
      "execution_count": 108,
      "outputs": [
        {
          "output_type": "stream",
          "text": [
            "Model: \"sequential_18\"\n",
            "_________________________________________________________________\n",
            "Layer (type)                 Output Shape              Param #   \n",
            "=================================================================\n",
            "flatten_18 (Flatten)         (None, 12288)             0         \n",
            "_________________________________________________________________\n",
            "dense_126 (Dense)            (None, 128)               1572992   \n",
            "_________________________________________________________________\n",
            "dense_127 (Dense)            (None, 128)               16512     \n",
            "_________________________________________________________________\n",
            "dropout_36 (Dropout)         (None, 128)               0         \n",
            "_________________________________________________________________\n",
            "dense_128 (Dense)            (None, 64)                8256      \n",
            "_________________________________________________________________\n",
            "dense_129 (Dense)            (None, 64)                4160      \n",
            "_________________________________________________________________\n",
            "dropout_37 (Dropout)         (None, 64)                0         \n",
            "_________________________________________________________________\n",
            "dense_130 (Dense)            (None, 16)                1040      \n",
            "_________________________________________________________________\n",
            "dense_131 (Dense)            (None, 16)                272       \n",
            "_________________________________________________________________\n",
            "dense_132 (Dense)            (None, 3)                 51        \n",
            "=================================================================\n",
            "Total params: 1,603,283\n",
            "Trainable params: 1,603,283\n",
            "Non-trainable params: 0\n",
            "_________________________________________________________________\n"
          ],
          "name": "stdout"
        }
      ]
    },
    {
      "cell_type": "code",
      "metadata": {
        "colab": {
          "base_uri": "https://localhost:8080/"
        },
        "id": "h5MTj5SUwGpG",
        "outputId": "900a3bdb-b9a4-4ebb-b306-63f6c8c60945"
      },
      "source": [
        "# train the model using the Adam optimizer\n",
        "print(\"[INFO] training network...\")\n",
        "opt = Adam(lr=1e-3, decay=1e-3)\n",
        "model.compile(loss=\"categorical_crossentropy\", optimizer=opt,\n",
        "\tmetrics=[\"accuracy\"])\n",
        "H = model.fit(trainX, trainY, validation_data=(testX, testY), epochs=50, batch_size=32)"
      ],
      "execution_count": 109,
      "outputs": [
        {
          "output_type": "stream",
          "text": [
            "[INFO] training network...\n",
            "Epoch 1/50\n",
            "WARNING:tensorflow:Model was constructed with shape (None, 12288) for input KerasTensor(type_spec=TensorSpec(shape=(None, 12288), dtype=tf.float32, name='flatten_18_input'), name='flatten_18_input', description=\"created by layer 'flatten_18_input'\"), but it was called on an input with incompatible shape (None, 64, 64, 3).\n",
            "WARNING:tensorflow:Model was constructed with shape (None, 12288) for input KerasTensor(type_spec=TensorSpec(shape=(None, 12288), dtype=tf.float32, name='flatten_18_input'), name='flatten_18_input', description=\"created by layer 'flatten_18_input'\"), but it was called on an input with incompatible shape (None, 64, 64, 3).\n",
            "19/23 [=======================>......] - ETA: 0s - loss: 1.1911 - accuracy: 0.3541WARNING:tensorflow:Model was constructed with shape (None, 12288) for input KerasTensor(type_spec=TensorSpec(shape=(None, 12288), dtype=tf.float32, name='flatten_18_input'), name='flatten_18_input', description=\"created by layer 'flatten_18_input'\"), but it was called on an input with incompatible shape (None, 64, 64, 3).\n",
            "23/23 [==============================] - 1s 20ms/step - loss: 1.1879 - accuracy: 0.3548 - val_loss: 1.0849 - val_accuracy: 0.3502\n",
            "Epoch 2/50\n",
            "23/23 [==============================] - 0s 12ms/step - loss: 1.1145 - accuracy: 0.3956 - val_loss: 0.9659 - val_accuracy: 0.5316\n",
            "Epoch 3/50\n",
            "23/23 [==============================] - 0s 14ms/step - loss: 0.9980 - accuracy: 0.4976 - val_loss: 0.9015 - val_accuracy: 0.5654\n",
            "Epoch 4/50\n",
            "23/23 [==============================] - 0s 13ms/step - loss: 0.9399 - accuracy: 0.5435 - val_loss: 0.8656 - val_accuracy: 0.5781\n",
            "Epoch 5/50\n",
            "23/23 [==============================] - 0s 12ms/step - loss: 0.8847 - accuracy: 0.5699 - val_loss: 0.8864 - val_accuracy: 0.5823\n",
            "Epoch 6/50\n",
            "23/23 [==============================] - 0s 12ms/step - loss: 0.8087 - accuracy: 0.6394 - val_loss: 0.8025 - val_accuracy: 0.6118\n",
            "Epoch 7/50\n",
            "23/23 [==============================] - 0s 12ms/step - loss: 0.8081 - accuracy: 0.5865 - val_loss: 0.8482 - val_accuracy: 0.5654\n",
            "Epoch 8/50\n",
            "23/23 [==============================] - 0s 12ms/step - loss: 0.8531 - accuracy: 0.5515 - val_loss: 0.7783 - val_accuracy: 0.5949\n",
            "Epoch 9/50\n",
            "23/23 [==============================] - 0s 12ms/step - loss: 0.8155 - accuracy: 0.6092 - val_loss: 0.8238 - val_accuracy: 0.6118\n",
            "Epoch 10/50\n",
            "23/23 [==============================] - 0s 13ms/step - loss: 0.7878 - accuracy: 0.6146 - val_loss: 0.7546 - val_accuracy: 0.6287\n",
            "Epoch 11/50\n",
            "23/23 [==============================] - 0s 12ms/step - loss: 0.7404 - accuracy: 0.6352 - val_loss: 0.8572 - val_accuracy: 0.5401\n",
            "Epoch 12/50\n",
            "23/23 [==============================] - 0s 12ms/step - loss: 0.7093 - accuracy: 0.6408 - val_loss: 0.7778 - val_accuracy: 0.7131\n",
            "Epoch 13/50\n",
            "23/23 [==============================] - 0s 13ms/step - loss: 0.7053 - accuracy: 0.6838 - val_loss: 0.6895 - val_accuracy: 0.7932\n",
            "Epoch 14/50\n",
            "23/23 [==============================] - 0s 13ms/step - loss: 0.6513 - accuracy: 0.7250 - val_loss: 0.7851 - val_accuracy: 0.5907\n",
            "Epoch 15/50\n",
            "23/23 [==============================] - 0s 12ms/step - loss: 0.7005 - accuracy: 0.6677 - val_loss: 0.6911 - val_accuracy: 0.7848\n",
            "Epoch 16/50\n",
            "23/23 [==============================] - 0s 13ms/step - loss: 0.5620 - accuracy: 0.7305 - val_loss: 0.6497 - val_accuracy: 0.7426\n",
            "Epoch 17/50\n",
            "23/23 [==============================] - 0s 12ms/step - loss: 0.5798 - accuracy: 0.7539 - val_loss: 0.7347 - val_accuracy: 0.6540\n",
            "Epoch 18/50\n",
            "23/23 [==============================] - 0s 11ms/step - loss: 0.5649 - accuracy: 0.7459 - val_loss: 0.6855 - val_accuracy: 0.6751\n",
            "Epoch 19/50\n",
            "23/23 [==============================] - 0s 12ms/step - loss: 0.5544 - accuracy: 0.7560 - val_loss: 0.6690 - val_accuracy: 0.7215\n",
            "Epoch 20/50\n",
            "23/23 [==============================] - 0s 12ms/step - loss: 0.5115 - accuracy: 0.7682 - val_loss: 0.6471 - val_accuracy: 0.7468\n",
            "Epoch 21/50\n",
            "23/23 [==============================] - 0s 12ms/step - loss: 0.4894 - accuracy: 0.7924 - val_loss: 0.6191 - val_accuracy: 0.8059\n",
            "Epoch 22/50\n",
            "23/23 [==============================] - 0s 12ms/step - loss: 0.4691 - accuracy: 0.8185 - val_loss: 0.5814 - val_accuracy: 0.8101\n",
            "Epoch 23/50\n",
            "23/23 [==============================] - 0s 11ms/step - loss: 0.4248 - accuracy: 0.8279 - val_loss: 0.8672 - val_accuracy: 0.6160\n",
            "Epoch 24/50\n",
            "23/23 [==============================] - 0s 13ms/step - loss: 0.7878 - accuracy: 0.6508 - val_loss: 0.6951 - val_accuracy: 0.7004\n",
            "Epoch 25/50\n",
            "23/23 [==============================] - 0s 12ms/step - loss: 0.5379 - accuracy: 0.7676 - val_loss: 0.6217 - val_accuracy: 0.8270\n",
            "Epoch 26/50\n",
            "23/23 [==============================] - 0s 13ms/step - loss: 0.4622 - accuracy: 0.8127 - val_loss: 0.5922 - val_accuracy: 0.7932\n",
            "Epoch 27/50\n",
            "23/23 [==============================] - 0s 13ms/step - loss: 0.4486 - accuracy: 0.8347 - val_loss: 0.6978 - val_accuracy: 0.7890\n",
            "Epoch 28/50\n",
            "23/23 [==============================] - 0s 12ms/step - loss: 0.4473 - accuracy: 0.8296 - val_loss: 0.6064 - val_accuracy: 0.7975\n",
            "Epoch 29/50\n",
            "23/23 [==============================] - 0s 12ms/step - loss: 0.4456 - accuracy: 0.8360 - val_loss: 0.6620 - val_accuracy: 0.8017\n",
            "Epoch 30/50\n",
            "23/23 [==============================] - 0s 13ms/step - loss: 0.4099 - accuracy: 0.8602 - val_loss: 0.6393 - val_accuracy: 0.7468\n",
            "Epoch 31/50\n",
            "23/23 [==============================] - 0s 12ms/step - loss: 0.3667 - accuracy: 0.8435 - val_loss: 0.6017 - val_accuracy: 0.8228\n",
            "Epoch 32/50\n",
            "23/23 [==============================] - 0s 12ms/step - loss: 0.3121 - accuracy: 0.8711 - val_loss: 0.5792 - val_accuracy: 0.7932\n",
            "Epoch 33/50\n",
            "23/23 [==============================] - 0s 12ms/step - loss: 0.3392 - accuracy: 0.8631 - val_loss: 0.6558 - val_accuracy: 0.7806\n",
            "Epoch 34/50\n",
            "23/23 [==============================] - 0s 12ms/step - loss: 0.3238 - accuracy: 0.8595 - val_loss: 0.8057 - val_accuracy: 0.8228\n",
            "Epoch 35/50\n",
            "23/23 [==============================] - 0s 13ms/step - loss: 0.3446 - accuracy: 0.8775 - val_loss: 0.8490 - val_accuracy: 0.8228\n",
            "Epoch 36/50\n",
            "23/23 [==============================] - 0s 13ms/step - loss: 0.3881 - accuracy: 0.8596 - val_loss: 0.7252 - val_accuracy: 0.8228\n",
            "Epoch 37/50\n",
            "23/23 [==============================] - 0s 12ms/step - loss: 0.2827 - accuracy: 0.9042 - val_loss: 0.7042 - val_accuracy: 0.8270\n",
            "Epoch 38/50\n",
            "23/23 [==============================] - 0s 12ms/step - loss: 0.2862 - accuracy: 0.8885 - val_loss: 0.6279 - val_accuracy: 0.8186\n",
            "Epoch 39/50\n",
            "23/23 [==============================] - 0s 12ms/step - loss: 0.2901 - accuracy: 0.8972 - val_loss: 0.7554 - val_accuracy: 0.8354\n",
            "Epoch 40/50\n",
            "23/23 [==============================] - 0s 12ms/step - loss: 0.3095 - accuracy: 0.8725 - val_loss: 0.6962 - val_accuracy: 0.8017\n",
            "Epoch 41/50\n",
            "23/23 [==============================] - 0s 12ms/step - loss: 0.2800 - accuracy: 0.8804 - val_loss: 0.6721 - val_accuracy: 0.8312\n",
            "Epoch 42/50\n",
            "23/23 [==============================] - 0s 13ms/step - loss: 0.2418 - accuracy: 0.9172 - val_loss: 0.6258 - val_accuracy: 0.8186\n",
            "Epoch 43/50\n",
            "23/23 [==============================] - 0s 11ms/step - loss: 0.2854 - accuracy: 0.8788 - val_loss: 0.6205 - val_accuracy: 0.8059\n",
            "Epoch 44/50\n",
            "23/23 [==============================] - 0s 12ms/step - loss: 0.2596 - accuracy: 0.9092 - val_loss: 0.7296 - val_accuracy: 0.8143\n",
            "Epoch 45/50\n",
            "23/23 [==============================] - 0s 13ms/step - loss: 0.2403 - accuracy: 0.9054 - val_loss: 0.7227 - val_accuracy: 0.8101\n",
            "Epoch 46/50\n",
            "23/23 [==============================] - 0s 12ms/step - loss: 0.2494 - accuracy: 0.9042 - val_loss: 0.7381 - val_accuracy: 0.7932\n",
            "Epoch 47/50\n",
            "23/23 [==============================] - 0s 12ms/step - loss: 0.2386 - accuracy: 0.9083 - val_loss: 0.6903 - val_accuracy: 0.7932\n",
            "Epoch 48/50\n",
            "23/23 [==============================] - 0s 12ms/step - loss: 0.1917 - accuracy: 0.9350 - val_loss: 0.6810 - val_accuracy: 0.8186\n",
            "Epoch 49/50\n",
            "23/23 [==============================] - 0s 13ms/step - loss: 0.1747 - accuracy: 0.9434 - val_loss: 0.7719 - val_accuracy: 0.8143\n",
            "Epoch 50/50\n",
            "23/23 [==============================] - 0s 12ms/step - loss: 0.1751 - accuracy: 0.9445 - val_loss: 0.7689 - val_accuracy: 0.8397\n"
          ],
          "name": "stdout"
        }
      ]
    },
    {
      "cell_type": "code",
      "metadata": {
        "colab": {
          "base_uri": "https://localhost:8080/",
          "height": 591
        },
        "id": "LcE-OzSJwMC-",
        "outputId": "5d1670a4-5233-4a3d-b64a-8a3532df8703"
      },
      "source": [
        "import matplotlib.pyplot as plt\n",
        "\n",
        "print(H.history.keys())\n",
        "# summarize history for accuracy\n",
        "plt.plot(H.history['accuracy'])\n",
        "plt.plot(H.history['val_accuracy'])\n",
        "plt.title('model accuracy')\n",
        "plt.ylabel('accuracy')\n",
        "plt.xlabel('epoch')\n",
        "plt.legend(['train', 'test'], loc='upper left')\n",
        "plt.show()\n",
        "# summarize history for loss\n",
        "plt.plot(H.history['loss'])\n",
        "plt.plot(H.history['val_loss'])\n",
        "plt.title('model loss')\n",
        "plt.ylabel('loss')\n",
        "plt.xlabel('epoch')\n",
        "plt.legend(['train', 'test'], loc='upper left')\n",
        "plt.show()"
      ],
      "execution_count": 110,
      "outputs": [
        {
          "output_type": "stream",
          "text": [
            "dict_keys(['loss', 'accuracy', 'val_loss', 'val_accuracy'])\n"
          ],
          "name": "stdout"
        },
        {
          "output_type": "display_data",
          "data": {
            "image/png": "[encoded data removed]",
            "text/plain": [
              "<Figure size 432x288 with 1 Axes>"
            ]
          },
          "metadata": {
            "tags": [],
            "needs_background": "light"
          }
        },
        {
          "output_type": "display_data",
          "data": {
            "image/png": "[encoded data removed]",
            "text/plain": [
              "<Figure size 432x288 with 1 Axes>"
            ]
          },
          "metadata": {
            "tags": [],
            "needs_background": "light"
          }
        }
      ]
    },
    {
      "cell_type": "code",
      "metadata": {
        "colab": {
          "base_uri": "https://localhost:8080/"
        },
        "id": "a-YnZ8-bwmcY",
        "outputId": "49daeaaa-89a5-468b-8c33-4e962ebd384c"
      },
      "source": [
        "# evaluate the network\n",
        "print(\"[INFO] evaluating network...\")\n",
        "predictions = model.predict(testX, batch_size=32)\n",
        "print(classification_report(testY.argmax(axis=1),\n",
        "\tpredictions.argmax(axis=1), target_names=lb.classes_))"
      ],
      "execution_count": 111,
      "outputs": [
        {
          "output_type": "stream",
          "text": [
            "[INFO] evaluating network...\n",
            "WARNING:tensorflow:Model was constructed with shape (None, 12288) for input KerasTensor(type_spec=TensorSpec(shape=(None, 12288), dtype=tf.float32, name='flatten_18_input'), name='flatten_18_input', description=\"created by layer 'flatten_18_input'\"), but it was called on an input with incompatible shape (None, 64, 64, 3).\n",
            "              precision    recall  f1-score   support\n",
            "\n",
            "       coast       0.82      0.85      0.84        88\n",
            "      forest       0.85      0.89      0.87        80\n",
            "     highway       0.85      0.77      0.81        69\n",
            "\n",
            "    accuracy                           0.84       237\n",
            "   macro avg       0.84      0.84      0.84       237\n",
            "weighted avg       0.84      0.84      0.84       237\n",
            "\n"
          ],
          "name": "stdout"
        }
      ]
    }
  ]
}